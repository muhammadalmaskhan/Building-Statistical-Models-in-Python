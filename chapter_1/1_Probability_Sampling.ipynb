{
 "cells": [
  {
   "cell_type": "code",
   "execution_count": 1,
   "id": "fbdd15f6-13a4-4a10-85d4-91f1eb43ff97",
   "metadata": {},
   "outputs": [],
   "source": [
    "import numpy as np "
   ]
  },
  {
   "cell_type": "code",
   "execution_count": 2,
   "id": "e13e95dd-8962-4726-9a28-e62edec570d3",
   "metadata": {},
   "outputs": [],
   "source": [
    "# setup generator for reproducibility \n",
    "random_generator = np.random.default_rng(2020) "
   ]
  },
  {
   "cell_type": "code",
   "execution_count": 3,
   "id": "449621a5-a5ab-4be8-805d-c3aa853cd531",
   "metadata": {},
   "outputs": [
    {
     "name": "stdout",
     "output_type": "stream",
     "text": [
      "[1 8 5]\n"
     ]
    }
   ],
   "source": [
    "population = np.arange(1, 10 + 1) \n",
    "sample = random_generator.choice( \n",
    "    population,           # sample from population \n",
    "   size=3,               # number of samples to take \n",
    "   replace=False         # only allow to sample individuals once \n",
    ") \n",
    "print(sample) \n",
    "# array([1, 8, 5]) "
   ]
  },
  {
   "cell_type": "code",
   "execution_count": null,
   "id": "785990b3",
   "metadata": {},
   "outputs": [],
   "source": [
    "import pymc3"
   ]
  },
  {
   "cell_type": "code",
   "execution_count": null,
   "id": "f0291926",
   "metadata": {},
   "outputs": [],
   "source": []
  }
 ],
 "metadata": {
  "kernelspec": {
   "display_name": "Python 3 (ipykernel)",
   "language": "python",
   "name": "python3"
  },
  "language_info": {
   "codemirror_mode": {
    "name": "ipython",
    "version": 3
   },
   "file_extension": ".py",
   "mimetype": "text/x-python",
   "name": "python",
   "nbconvert_exporter": "python",
   "pygments_lexer": "ipython3",
   "version": "3.9.7"
  }
 },
 "nbformat": 4,
 "nbformat_minor": 5
}
